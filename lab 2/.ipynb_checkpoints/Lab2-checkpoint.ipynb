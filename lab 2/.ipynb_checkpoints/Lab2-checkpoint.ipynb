{
 "cells": [
  {
   "cell_type": "markdown",
   "metadata": {},
   "source": [
    "# Lab 2: Classification\n",
    "\n",
    "### Machine Learning 1, September 2016\n",
    "\n",
    "* The lab exercises should be made in groups of two people.\n",
    "* The deadline is October 9th (Sunday) 23:59.\n",
    "* Assignment should be sent to your teaching assistant. The subject line of your email should be \"lab\\#\\_lastname1\\_lastname2\\_lastname3\".\n",
    "* Put your and your teammates' names in the body of the email.\n",
    "* Attach the .IPYNB (IPython Notebook) file containing your code and answers. Naming of the file follows the same rule as the subject line. For example, if the subject line is \"lab01\\_Kingma\\_Hu\", the attached file should be \"lab01\\_Kingma\\_Hu.ipynb\". Only use underscores (\"\\_\") to connect names, otherwise the files cannot be parsed.\n",
    "\n",
    "Notes on implementation:\n",
    "\n",
    "* For this notebook you need to answer a few theory questions, add them in the Markdown cell's below the question. Note: you can use Latex-style code in here.\n",
    "* Focus on Part 1 the first week, and Part 2 the second week!\n",
    "* You should write your code and answers below the questions in this IPython Notebook.\n",
    "* Among the first lines of your notebook should be \"%pylab inline\". This imports all required modules, and your plots will appear inline.\n",
    "* If you have questions outside of the labs, post them on blackboard or email me.\n",
    "* NOTE: Make sure we can run your notebook / scripts!\n",
    "\n",
    "$\\newcommand{\\bx}{\\mathbf{x}}$\n",
    "$\\newcommand{\\bw}{\\mathbf{w}}$\n",
    "$\\newcommand{\\bt}{\\mathbf{t}}$\n",
    "$\\newcommand{\\by}{\\mathbf{y}}$\n",
    "$\\newcommand{\\bm}{\\mathbf{m}}$\n",
    "$\\newcommand{\\bb}{\\mathbf{b}}$\n",
    "$\\newcommand{\\bS}{\\mathbf{S}}$\n",
    "$\\newcommand{\\ba}{\\mathbf{a}}$\n",
    "$\\newcommand{\\bz}{\\mathbf{z}}$\n",
    "$\\newcommand{\\bv}{\\mathbf{v}}$\n",
    "$\\newcommand{\\bq}{\\mathbf{q}}$\n",
    "$\\newcommand{\\bp}{\\mathbf{p}}$\n",
    "$\\newcommand{\\bh}{\\mathbf{h}}$\n",
    "$\\newcommand{\\bI}{\\mathbf{I}}$\n",
    "$\\newcommand{\\bX}{\\mathbf{X}}$\n",
    "$\\newcommand{\\bT}{\\mathbf{T}}$\n",
    "$\\newcommand{\\bPhi}{\\mathbf{\\Phi}}$\n",
    "$\\newcommand{\\bW}{\\mathbf{W}}$\n",
    "$\\newcommand{\\bV}{\\mathbf{V}}$"
   ]
  },
  {
   "cell_type": "code",
   "execution_count": 2,
   "metadata": {
    "collapsed": false
   },
   "outputs": [
    {
     "name": "stderr",
     "output_type": "stream",
     "text": [
      "/usr/local/lib/python2.7/site-packages/matplotlib/font_manager.py:273: UserWarning: Matplotlib is building the font cache using fc-list. This may take a moment.\n",
      "  warnings.warn('Matplotlib is building the font cache using fc-list. This may take a moment.')\n"
     ]
    },
    {
     "name": "stdout",
     "output_type": "stream",
     "text": [
      "Populating the interactive namespace from numpy and matplotlib\n"
     ]
    }
   ],
   "source": [
    "%pylab inline\n",
    "import gzip, cPickle\n"
   ]
  },
  {
   "cell_type": "markdown",
   "metadata": {},
   "source": [
    "# Part 1. Multiclass logistic regression\n",
    "\n",
    "Scenario: you have a friend with one big problem: she's completely blind. You decided to help her: she has a special smartphone for blind people, and you are going to develop a mobile phone app that can do _machine vision_ using the mobile camera: converting a picture (from the camera) to the meaning of the image. You decide to start with an app that can read handwritten digits, i.e. convert an image of handwritten digits to text (e.g. it would enable her to read precious handwritten phone numbers).\n",
    "\n",
    "A key building block for such an app would be a function `predict_digit(x)` that returns the digit class of an image patch $\\bx$. Since hand-coding this function is highly non-trivial, you decide to solve this problem using machine learning, such that the internal parameters of this function are automatically learned using machine learning techniques.\n",
    "\n",
    "The dataset you're going to use for this is the MNIST handwritten digits dataset (`http://yann.lecun.com/exdb/mnist/`). You can load the data from `mnist.pkl.gz` we provided, using: "
   ]
  },
  {
   "cell_type": "code",
   "execution_count": 3,
   "metadata": {
    "collapsed": false
   },
   "outputs": [],
   "source": [
    "def load_mnist():\n",
    "    f = gzip.open('mnist.pkl.gz', 'rb')\n",
    "    data = cPickle.load(f)\n",
    "    f.close()\n",
    "    return data\n",
    "\n",
    "(x_train, t_train), (x_valid, t_valid), (x_test, t_test) = load_mnist()\n",
    "\n",
    "# Initialize some global variables\n",
    "num_pixels = 784\n",
    "num_digits = 10"
   ]
  },
  {
   "cell_type": "markdown",
   "metadata": {},
   "source": [
    "\n",
    "The tuples represent train, validation and test sets. The first element (`x_train`, `x_valid`, `x_test`) of each tuple is a $N \\times M$ matrix, where $N$ is the number of datapoints and $M = 28^2 = 784$ is the dimensionality of the data. The second element (`t_train`, `t_valid`, `t_test`) of each tuple is the corresponding $N$-dimensional vector of integers, containing the true class labels.\n",
    "\n",
    "Here's a visualisation of the first 8 digits of the trainingset:"
   ]
  },
  {
   "cell_type": "code",
   "execution_count": 8,
   "metadata": {
    "collapsed": false
   },
   "outputs": [
    {
     "data": {
      "image/png": "[encoded data removed]",
      "text/plain": [
       "<matplotlib.figure.Figure at 0x10c03f150>"
      ]
     },
     "metadata": {},
     "output_type": "display_data"
    }
   ],
   "source": [
    "def plot_digits(data, labels, numcols, shape=(28,28)):\n",
    "    \"\"\"Plot some digits and label them with their true class\"\"\"\n",
    "    numdigits = data.shape[0]\n",
    "    numrows = int(numdigits/numcols)\n",
    "\n",
    "    for i in range(numdigits):\n",
    "        plt.subplot(numrows, numcols, i+1)\n",
    "        plt.axis('off')\n",
    "        plt.imshow(data[i].reshape(shape), interpolation='nearest', cmap='Greys')\n",
    "        plt.title(str(labels[i]))\n",
    "\n",
    "    plt.show()\n",
    "    \n",
    "plot_digits(x_train[0:8], t_train[0:8], numcols=4)"
   ]
  },
  {
   "cell_type": "markdown",
   "metadata": {},
   "source": [
    "In _multiclass_ logistic regression, the conditional probability of class label $j$ given the image $\\bx$ for some datapoint is given by:\n",
    "\n",
    "$ \\log p(t = j \\;|\\; \\bx, \\bb, \\bW) = \\log q_j - \\log Z$\n",
    "\n",
    "where $\\log q_j = \\bw_j^T \\bx + b_j$ (the log of the unnormalized probability of the class $j$), and $Z = \\sum_k q_k$ is the normalizing factor. $\\bw_j$ is the $j$-th column of $\\bW$ (a matrix of size $784 \\times 10$) corresponding to the class label, $b_j$ is the $j$-th element of $\\bb$.\n",
    "\n",
    "Given an input image, the multiclass logistic regression model first computes the intermediate vector $\\log \\bq$ (of size $10 \\times 1$), using $\\log q_j = \\bw_j^T \\bx + b_j$, containing the unnormalized log-probabilities per class. \n",
    "\n",
    "The unnormalized probabilities are then normalized by $Z$ such that $\\sum_j p_j = \\sum_j \\exp(\\log p_j) = 1$. This is done by $\\log p_j = \\log q_j - \\log Z$ where $Z = \\sum_j \\exp(\\log q_j)$. This is known as the _softmax_ transformation, and is also used as a last layer of many classifcation neural network models, to ensure that the output of the network is a normalized distribution, regardless of the values of second-to-last layer ($\\log \\bq$)\n",
    "\n",
    "Warning: when computing $\\log Z$, you are likely to encounter numerical problems. Save yourself countless hours of debugging and learn the [log-sum-exp trick](https://hips.seas.harvard.edu/blog/2013/01/09/computing-log-sum-exp/ \"Title\").\n",
    "\n",
    "The network's output $\\log \\bp$ of size $10 \\times 1$ then contains the conditional log-probabilities $\\log p(t = j \\;|\\; \\bx, \\bb, \\bW)$ for each digit class $j$. In summary, the computations are done in this order:\n",
    "\n",
    "$\\bx \\rightarrow \\log \\bq \\rightarrow Z \\rightarrow \\log \\bp$\n",
    "\n",
    "Given some dataset with $N$ independent, identically distributed datapoints, the log-likelihood is given by:\n",
    "\n",
    "$ \\mathcal{L}(\\bb, \\bW) = \\sum_{n=1}^N \\mathcal{L}^{(n)}$\n",
    "\n",
    "where we use $\\mathcal{L}^{(n)}$ to denote the partial log-likelihood evaluated over a single datapoint. It is important to see that the log-probability of the class label $t^{(n)}$ given the image, is given by the $t^{(n)}$-th element of the network's output $\\log \\bp$, denoted by $\\log p_{t^{(n)}}$:\n",
    "\n",
    "$\\mathcal{L}^{(n)} = \\log p(t = t^{(n)} \\;|\\; \\bx = \\bx^{(n)}, \\bb, \\bW) = \\log p_{t^{(n)}} = \\log q_{t^{(n)}} - \\log Z^{(n)}$\n",
    "\n",
    "where $\\bx^{(n)}$ and $t^{(n)}$ are the input (image) and class label (integer) of the $n$-th datapoint, and $Z^{(n)}$ is the normalizing constant for the distribution over $t^{(n)}$.\n"
   ]
  },
  {
   "cell_type": "markdown",
   "metadata": {},
   "source": [
    "## 1.1 Gradient-based stochastic optimization\n",
    "\n",
    "### 1.1.1 Derive gradient equations (20 points)\n",
    "\n",
    "Derive the equations for computing the (first) partial derivatives of the log-likelihood w.r.t. all the parameters, evaluated at a _single_ datapoint $n$.\n",
    "\n",
    "You should start deriving the equations for $\\frac{\\partial \\mathcal{L}^{(n)}}{\\partial \\log q_j}$ for each $j$. For clarity, we'll use the shorthand $\\delta^q_j = \\frac{\\partial \\mathcal{L}^{(n)}}{\\partial \\log q_j}$.\n",
    "\n",
    "For $j = t^{(n)}$:\n",
    "$\n",
    "\\delta^q_j\n",
    "= \\frac{\\partial \\mathcal{L}^{(n)}}{\\partial \\log p_j}\n",
    "\\frac{\\partial \\log p_j}{\\partial \\log q_j}\n",
    "+ \\frac{\\partial \\mathcal{L}^{(n)}}{\\partial \\log Z}\n",
    "\\frac{\\partial \\log Z}{\\partial Z} \n",
    "\\frac{\\partial Z}{\\partial \\log q_j} \n",
    "= 1 \\cdot 1 - \\frac{\\partial \\log Z}{\\partial Z} \n",
    "\\frac{\\partial Z}{\\partial \\log q_j}\n",
    "= 1 - \\frac{\\partial \\log Z}{\\partial Z} \n",
    "\\frac{\\partial Z}{\\partial \\log q_j}\n",
    "$\n",
    "\n",
    "For $j \\neq t^{(n)}$:\n",
    "$\n",
    "\\delta^q_j\n",
    "= \\frac{\\partial \\mathcal{L}^{(n)}}{\\partial \\log Z}\n",
    "\\frac{\\partial \\log Z}{\\partial Z} \n",
    "\\frac{\\partial Z}{\\partial \\log q_j} \n",
    "= - \\frac{\\partial \\log Z}{\\partial Z} \n",
    "\\frac{\\partial Z}{\\partial \\log q_j}\n",
    "$\n",
    "\n",
    "Complete the above derivations for $\\delta^q_j$ by furtherly developing $\\frac{\\partial \\log Z}{\\partial Z}$ and $\\frac{\\partial Z}{\\partial \\log q_j}$. Both are quite simple. For these it doesn't matter whether $j = t^{(n)}$ or not.\n",
    "\n",
    "Given your equations for computing the gradients $\\delta^q_j$ it should be quite straightforward to derive the equations for the gradients of the parameters of the model, $\\frac{\\partial \\mathcal{L}^{(n)}}{\\partial W_{ij}}$ and $\\frac{\\partial \\mathcal{L}^{(n)}}{\\partial b_j}$. The gradients for the biases $\\bb$ are given by:\n",
    "\n",
    "$\n",
    "\\frac{\\partial \\mathcal{L}^{(n)}}{\\partial b_j}\n",
    "= \\frac{\\partial \\mathcal{L}^{(n)}}{\\partial \\log q_j}\n",
    "\\frac{\\partial \\log q_j}{\\partial b_j}\n",
    "= \\delta^q_j\n",
    "\\cdot 1\n",
    "= \\delta^q_j\n",
    "$\n",
    "\n",
    "The equation above gives the derivative of $\\mathcal{L}^{(n)}$ w.r.t. a single element of $\\bb$, so the vector $\\nabla_\\bb \\mathcal{L}^{(n)}$ with all derivatives of $\\mathcal{L}^{(n)}$ w.r.t. the bias parameters $\\bb$ is: \n",
    "\n",
    "$\n",
    "\\nabla_\\bb \\mathcal{L}^{(n)} = \\mathbf{\\delta}^q\n",
    "$\n",
    "\n",
    "where $\\mathbf{\\delta}^q$ denotes the vector of size $10 \\times 1$ with elements $\\mathbf{\\delta}_j^q$.\n",
    "\n",
    "The (not fully developed) equation for computing the derivative of $\\mathcal{L}^{(n)}$ w.r.t. a single element $W_{ij}$ of $\\bW$ is:\n",
    "\n",
    "$\n",
    "\\frac{\\partial \\mathcal{L}^{(n)}}{\\partial W_{ij}} =\n",
    "\\frac{\\partial \\mathcal{L}^{(n)}}{\\partial \\log q_j}\n",
    "\\frac{\\partial \\log q_j}{\\partial W_{ij}}\n",
    "= \\mathbf{\\delta}_j^q\n",
    "\\frac{\\partial \\log q_j}{\\partial W_{ij}}\n",
    "$\n",
    "\n",
    "What is $\\frac{\\partial \\log q_j}{\\partial W_{ij}}$? Complete the equation above.\n",
    "\n",
    "If you want, you can give the resulting equation in vector format ($\\nabla_{\\bw_j} \\mathcal{L}^{(n)} = ...$), like we did for $\\nabla_\\bb \\mathcal{L}^{(n)}$.\n"
   ]
  },
  {
   "cell_type": "markdown",
   "metadata": {},
   "source": [
    "### Answers:\n",
    "#### First question:\n",
    "To avoid confusion, we change $j$ to $k$ in sum over $Z$\n",
    "\n",
    "$Z$ is $\\sum_{k} \\exp(\\log q_k)$ , therefore:\n",
    "\n",
    "$\\frac{\\partial \\log Z}{\\partial Z} = \\frac{1}{Z}$ and\n",
    "\n",
    "$\\frac{\\partial Z}{\\partial \\log q_j} = \\exp(\\log q_j)$\n",
    "\n",
    "For $j = t^{(n)}$:\n",
    "$\n",
    "\\delta^q_j\n",
    "= 1 - \\dfrac{q_j}{Z} = 1 - \\dfrac{q_j}{\\sum_{k} q_k}$\n",
    "\n",
    "For $j \\neq t^{(n)}$:\n",
    "$\n",
    "\\delta^q_j\n",
    "= - \\dfrac{q_j}{Z} = - \\dfrac{q_j}{\\sum_{k} q_k}$\n",
    "\n",
    "#### Second question:\n",
    "\n",
    "\n",
    "$\\dfrac{\\partial \\log q_j}{\\partial W_{ij}} = \\dfrac{\\partial}{\\partial W_{ij}} \\sum_{i=1}^{I} W_{ij} x_i^{(n)} + b_j =\n",
    "x_i^{(n)}$\n",
    " \n",
    "With $i$ being the index of 784 digits and $I$ = 784\n",
    "\n",
    "Therefore, we can plug the result to get $\\dfrac{\\partial \\mathcal{L}^{(n)}}{\\partial W_{ij}}$\n",
    "\n",
    "For $j = t^{(n)}$: $\n",
    "= \\mathbf{\\delta}_j^q \\dfrac{\\partial \\log q_j}{\\partial W_{ij}}\n",
    "= (1 - \\frac{q_j}{\\sum_{k} q_k}) x_i^{(n)}$\n",
    "\n",
    "\n",
    "For $j \\neq t^{(n)}$: $\n",
    "= \\mathbf{\\delta}_j^q \\dfrac{\\partial \\log q_j}{\\partial W_{ij}}\n",
    "= (- \\frac{q_j}{\\sum_{k} q_k}) x_i^{(n)}$\n",
    "\n",
    "\n",
    "which gives\n",
    "\n",
    "$\\nabla_{\\bw_j} \\mathcal{L}^{(n)} = \\delta^q_j \\bx^{(n)} $"
   ]
  },
  {
   "cell_type": "markdown",
   "metadata": {},
   "source": [
    "### 1.1.2 Implement gradient computations (10 points)\n",
    "\n",
    "Implement the gradient calculations you derived in the previous question. Write a function `logreg_gradient(x, t, w, b)` that returns the gradients $\\nabla_{\\bw_j} \\mathcal{L}^{(n)}$ (for each $j$) and $\\nabla_{\\bb} \\mathcal{L}^{(n)}$, i.e. the first partial derivatives of the log-likelihood w.r.t. the parameters $\\bW$ and $\\bb$, evaluated at a single datapoint (`x`, `t`).\n",
    "The computation will contain roughly the following intermediate variables:\n",
    "\n",
    "$\n",
    "\\log \\bq \\rightarrow Z \\rightarrow \\log \\bp\\,,\\, \\mathbf{\\delta}^q\n",
    "$\n",
    "\n",
    "followed by computation of the gradient vectors $\\nabla_{\\bw_j} \\mathcal{L}^{(n)}$ (contained in a $784 \\times 10$ matrix) and $\\nabla_{\\bb} \\mathcal{L}^{(n)}$ (a $10 \\times 1$ vector).\n"
   ]
  },
  {
   "cell_type": "code",
   "execution_count": 9,
   "metadata": {
    "collapsed": false,
    "slideshow": {
     "slide_type": "-"
    }
   },
   "outputs": [],
   "source": [
    "def logreg_gradient(x, t, w, b):\n",
    "    \"\"\"Compute the partial derivatives of the log-likelihood\"\"\"\n",
    "    \n",
    "    # Compute log(q)\n",
    "    log_q = np.zeros((num_digits,1))\n",
    "    for j in range(num_digits):\n",
    "        log_q[j] = dot(w[:,j].T, x) + b[j]\n",
    "      \n",
    "    # Compute Z with the log-sum-exp trick\n",
    "    a_max = max(log_q)\n",
    "    q_shifted = [math.exp(log_qj - a_max ) for log_qj in log_q]\n",
    "    log_Z = a_max+math.log(sum(q_shifted))\n",
    "    Z = math.exp(log_Z)\n",
    "\n",
    "    # Compute log(p)\n",
    "    log_p = log_q - math.log(Z)\n",
    "    \n",
    "    # Compute the gradient w.r.t. W and delta q\n",
    "    grad_w = np.zeros((num_pixels,num_digits))\n",
    "    delta_q = np.zeros((num_digits,1))\n",
    "    \n",
    "    for j in range(num_digits):\n",
    "        if j==t:\n",
    "            delta_q[j]= 1-np.exp(log_q[j])/Z\n",
    "        else:\n",
    "            delta_q[j] = -np.exp(log_q[j])/Z\n",
    "            \n",
    "        grad_w[:,j] = x*delta_q[j]\n",
    "    \n",
    "    # Gradient w.r.t b is just delta q\n",
    "    grad_b = delta_q\n",
    "    \n",
    "    # The log-likelihood is the conditional log-probability for the true class\n",
    "    L_n = log_p[t]\n",
    "    \n",
    "    return L_n, grad_w, grad_b"
   ]
  },
  {
   "cell_type": "markdown",
   "metadata": {},
   "source": [
    "\n",
    "### 1.1.3 Stochastic gradient descent (10 points)\n",
    "\n",
    "Write a function `sgd_iter(x_train, t_train, w, b)` that performs one iteration of stochastic gradient descent (SGD), and returns the new weights. It should go through the trainingset once in randomized order, call `logreg_gradient(x, t, w, b)` for each datapoint to get the gradients, and update the parameters using a small learning rate (e.g. `1E-4`). Note that in this case we're maximizing the likelihood function, so we should actually performing gradient ___ascent___... For more information about SGD, see Bishop 5.2.4 or an online source (i.e. https://en.wikipedia.org/wiki/Stochastic_gradient_descent)"
   ]
  },
  {
   "cell_type": "code",
   "execution_count": 10,
   "metadata": {
    "collapsed": false
   },
   "outputs": [],
   "source": [
    "def sgd_iter(x_train, t_train, w, b):\n",
    "    \"\"\"Do an iteration of stochastic gradient descent and return the weights\"\"\"\n",
    "    \n",
    "    # Randomize the order of the data points\n",
    "    indices = np.random.permutation(x_train.shape[0])\n",
    "    \n",
    "    # Initialize the learning rate and the log-probability\n",
    "    eta = 1e-4\n",
    "    L = 0\n",
    "    \n",
    "    # Compute the gradients and update the weights\n",
    "    for i in indices:\n",
    "        L_n, grad_w, grad_b = logreg_gradient(x_train[i], t_train[i], w, b)\n",
    "        w = w + eta* grad_w\n",
    "        b = b + eta* grad_b\n",
    "        L += L_n\n",
    "        \n",
    "    return L, w,b"
   ]
  },
  {
   "cell_type": "markdown",
   "metadata": {},
   "source": [
    "## 1.2. Train\n",
    "\n",
    "### 1.2.1 Train (10 points)\n",
    "Perform a handful of training iterations through the trainingset. Plot (in one graph) the conditional log-probability of the trainingset and validation set after each iteration.\n"
   ]
  },
  {
   "cell_type": "code",
   "execution_count": 13,
   "metadata": {
    "collapsed": false
   },
   "outputs": [
    {
     "data": {
      "image/png": "[encoded data removed]",
      "text/plain": [
       "<matplotlib.figure.Figure at 0x10a9d9290>"
      ]
     },
     "metadata": {},
     "output_type": "display_data"
    }
   ],
   "source": [
    "# Initialize the weights and the probability vectors\n",
    "w = np.zeros((num_pixels,num_digits))\n",
    "b = np.zeros((num_digits,1))\n",
    "\n",
    "num_iter = 6\n",
    "L_train = np.zeros((num_iter,1))\n",
    "L_valid = np.zeros((num_iter,1))\n",
    "\n",
    "# Run SGD over the training set a number of times and update the weights.\n",
    "# Also run it on the validation set to get the conditional log-probability.\n",
    "for i in range(num_iter):\n",
    "    L_valid[i], _, _ = sgd_iter(x_valid, t_valid, w, b)\n",
    "    L_train[i], w, b = sgd_iter(x_train, t_train, w, b)\n",
    "\n",
    "# Plot conditional log-probability \n",
    "fig = plt.figure(figsize=(10,6))\n",
    "plt.style.use('ggplot')\n",
    "plt.title('Normalized conditional log-probability over ' +str(num_iter) + ' epochs')\n",
    "plt.xlabel('Epochs')\n",
    "plt.ylabel('Conditional log-probability / N')\n",
    "plt.margins(x=.1, y=.1)\n",
    "\n",
    "# We plot the normalized probabilities for better comparison\n",
    "plt.plot(range(num_iter), L_valid/x_valid.shape[0], 'bs-', label='Validation set')\n",
    "plt.plot(range(num_iter), L_train/x_train.shape[0], 'g^-', label='Training set')\n",
    "plt.legend(loc=4)\n",
    "plt.show()\n",
    "    "
   ]
  },
  {
   "cell_type": "markdown",
   "metadata": {},
   "source": [
    "### 1.2.2 Visualize weights (10 points)\n",
    "Visualize the resulting parameters $\\bW$ after a few iterations through the training set, by treating each column of $\\bW$ as an image. If you want, you can use or edit the `plot_digits(...)` above."
   ]
  },
  {
   "cell_type": "code",
   "execution_count": 14,
   "metadata": {
    "collapsed": false
   },
   "outputs": [
    {
     "data": {
      "image/png": "[encoded data removed]",
      "text/plain": [
       "<matplotlib.figure.Figure at 0x10b6851d0>"
      ]
     },
     "metadata": {},
     "output_type": "display_data"
    }
   ],
   "source": [
    "plot_digits(w.T, np.arange(10), 5)"
   ]
  },
  {
   "cell_type": "markdown",
   "metadata": {},
   "source": [
    "### 1.2.3. Visualize the 8 hardest and 8 easiest digits (10 points)\n",
    "Visualize the 8 digits in the validation set with the highest probability of the true class label under the model.\n",
    "Also plot the 8 digits that were assigned the lowest probability.\n",
    "Ask yourself if these results make sense."
   ]
  },
  {
   "cell_type": "code",
   "execution_count": 15,
   "metadata": {
    "collapsed": false,
    "scrolled": false
   },
   "outputs": [
    {
     "name": "stdout",
     "output_type": "stream",
     "text": [
      "Digits with the highest probability of the true class label:\n"
     ]
    },
    {
     "data": {
      "image/png": "[encoded data removed]",
      "text/plain": [
       "<matplotlib.figure.Figure at 0x10bd09e50>"
      ]
     },
     "metadata": {},
     "output_type": "display_data"
    },
    {
     "name": "stdout",
     "output_type": "stream",
     "text": [
      "Digits with the lowest probability of the true class label:\n"
     ]
    },
    {
     "data": {
      "image/png": "[encoded data removed]",
      "text/plain": [
       "<matplotlib.figure.Figure at 0x10d1c3a50>"
      ]
     },
     "metadata": {},
     "output_type": "display_data"
    }
   ],
   "source": [
    "# Compute the validation probabilities\n",
    "valid_logs = np.zeros((x_valid.shape[0],1))\n",
    "for i in range(x_valid.shape[0]):\n",
    "    valid_logs[i], _, _ = logreg_gradient(x_valid[i], t_valid[i], w, b)\n",
    "\n",
    "# Sort the probabilities from low to high\n",
    "sorted_logs = np.argsort(valid_logs, axis=0)\n",
    "\n",
    "print 'Digits with the highest probability of the true class label:'\n",
    "plot_digits(x_valid[sorted_logs[-8:]], np.squeeze(t_valid[sorted_logs[-8:]]),4)\n",
    "\n",
    "print 'Digits with the lowest probability of the true class label:'\n",
    "plot_digits(x_valid[sorted_logs[:8]], np.squeeze(t_valid[sorted_logs[:8]]),4)\n",
    "    \n",
    "    \n",
    "    \n",
    "\n",
    "        "
   ]
  },
  {
   "cell_type": "markdown",
   "metadata": {},
   "source": [
    "### 1.2.3 Comments\n",
    "Number 2 seems to be best predicted digit, which could be caused by the uniformity in writing styles for this digit.\n",
    "\n",
    "Furthermore, the worst predicted digits seem to have abnormal lines or be badly cropped, with part of the digit not contained in the 28x28 pixels bounding box. \n",
    "\n",
    "It makes sense that these do not get predicted well. The model is not invariant to variations to the writing style or parts of the digit missing, since the weights correspond directly to the pixel positions and do not have a further internal representation of the digits."
   ]
  },
  {
   "cell_type": "markdown",
   "metadata": {},
   "source": [
    "# Part 2. Multilayer perceptron\n",
    "\n",
    "\n",
    "You discover that the predictions by the logistic regression classifier are not good enough for your application: the model is too simple. You want to increase the accuracy of your predictions by using a better model. For this purpose, you're going to use a multilayer perceptron (MLP), a simple kind of neural network. The perceptron wil have a single hidden layer $\\bh$ with $L$ elements. The parameters of the model are $\\bV$ (connections between input $\\bx$ and hidden layer $\\bh$), $\\ba$ (the biases/intercepts of $\\bh$), $\\bW$ (connections between $\\bh$ and $\\log q$) and $\\bb$ (the biases/intercepts of $\\log q$.\n",
    "\n",
    "The conditional probability of the class label $j$ is given by:\n",
    "\n",
    "$\\log p(t = j \\;|\\; \\bx, \\bb, \\bW) = \\log q_j - \\log Z$\n",
    "\n",
    "where $q_j$ are again the unnormalized probabilities per class, and $Z = \\sum_j q_j$ is again the probability normalizing factor. Each $q_j$ is computed using:\n",
    "\n",
    "$\\log q_j = \\bw_j^T \\bh + b_j$\n",
    "\n",
    "where $\\bh$ is a $L \\times 1$ vector with the hidden layer activations (of a hidden layer with size $L$), and $\\bw_j$ is the $j$-th column of $\\bW$ (a $L \\times 10$ matrix). Each element of the hidden layer is computed from the input vector $\\bx$ using:\n",
    "\n",
    "$h_j = \\sigma(\\bv_j^T \\bx + a_j)$\n",
    "\n",
    "where $\\bv_j$ is the $j$-th column of $\\bV$ (a $784 \\times L$ matrix), $a_j$ is the $j$-th element of $\\ba$, and $\\sigma(.)$ is the so-called sigmoid activation function, defined by:\n",
    "\n",
    "$\\sigma(x) = \\frac{1}{1 + \\exp(-x)}$\n",
    "\n",
    "Note that this model is almost equal to the multiclass logistic regression model, but with an extra 'hidden layer' $\\bh$. The activations of this hidden layer can be viewed as features computed from the input, where the feature transformation ($\\bV$ and $\\ba$) is learned.\n",
    "\n",
    "## 2.1 Derive gradient equations (20 points)\n",
    "\n",
    "State (shortly) why $\\nabla_{\\bb} \\mathcal{L}^{(n)}$ is equal to the earlier (multiclass logistic regression) case, and why $\\nabla_{\\bw_j} \\mathcal{L}^{(n)}$ is almost equal to the earlier case.\n",
    "\n",
    "Like in multiclass logistic regression, you should use intermediate variables $\\mathbf{\\delta}_j^q$. In addition, you should use intermediate variables $\\mathbf{\\delta}_j^h = \\frac{\\partial \\mathcal{L}^{(n)}}{\\partial h_j}$.\n",
    "\n",
    "Given an input image, roughly the following intermediate variables should be computed:\n",
    "\n",
    "$\n",
    "\\log \\bq \\rightarrow Z \\rightarrow \\log \\bp \\rightarrow \\mathbf{\\delta}^q \\rightarrow \\mathbf{\\delta}^h\n",
    "$\n",
    "\n",
    "where $\\mathbf{\\delta}_j^h = \\frac{\\partial \\mathcal{L}^{(n)}}{\\partial \\bh_j}$.\n",
    "\n",
    "Give the equations for computing $\\mathbf{\\delta}^h$, and for computing the derivatives of $\\mathcal{L}^{(n)}$ w.r.t. $\\bW$, $\\bb$, $\\bV$ and $\\ba$. \n",
    "\n",
    "You can use the convenient fact that $\\frac{\\partial}{\\partial x} \\sigma(x) = \\sigma(x) (1 - \\sigma(x))$.\n",
    "\n",
    "##### Answer: "
   ]
  },
  {
   "cell_type": "markdown",
   "metadata": {},
   "source": [
    "$\\nabla_{\\bb} \\mathcal{L}^{(n)}$ is equal to the multiclass logistic regression because our log-likehood conditional probability doesn't change with respect to $\\bb$, it's still the same $\\log q_j = \\bw_j^T \\bh + \\bb_j$ w.r.t $\\bb$\n",
    "\n",
    "$\\nabla_{\\bw_j} \\mathcal{L}^{(n)}$ is slightly different from the multiclass logistic regression because $\\bW$ now connects the hidden layer to output layer instead of the input to output. Hence, we have $\\dfrac{\\partial \\log q_j}{\\partial W_{ij}} = \\dfrac{\\partial}{\\partial W_{ij}} \\sum_{i=1}^{I} W_{ij} h_i^{(n)} + b_j =\n",
    "h_i^{(n)}$\n",
    "\n",
    "With $k$ being the index of the hidden layer L\n",
    "\n",
    "With the formula above, $\\nabla_{\\bw_j} \\mathcal{L}^{(n)}$ is now $\\delta^q_j \\bh^{(n)}$\n",
    "\n",
    "The intermediate variable is given by $\\mathbf{\\delta}_j^h = \\dfrac{\\partial \\mathcal{L}^{(n)}}{\\partial h_j} = \\mathbf{\\delta}_j^q \\dfrac{\\partial \\log q_j}{\\partial \\bh_j} = \\mathbf{\\delta}_j^q \\dfrac{\\partial}{\\partial \\bh_j}\\sum_{i=1}^{I} \\bW_{ij} \\bh_i + \\bb_j = \\mathbf{\\delta}_j^q \\bW_{ij}$\n",
    "\n",
    "$\\nabla_{\\bv_j} \\mathcal{L}^{(n)} = \\dfrac{\\partial \\mathcal{L}^{(n)}}{\\partial \\bh_j} \\dfrac{\\partial \\bh_j}{\\partial \\bV_{ij}} = \\mathbf{\\delta}_j^h \\dfrac{\\partial \\bh_j}{\\partial \\bV_{ij}}$\n",
    "\n",
    "using chain rule, we can compute $\\dfrac{\\partial \\bh_j}{\\partial \\bV_{ij}} = \\dfrac{\\partial \\sigma(\\bv_j^T \\bx + \\ba_j)}{\\partial \\bv_j^T \\bx + \\ba_j} \\dfrac{\\partial \\bv_j^T \\bx + \\ba_j}{\\partial \\bv_j} = \\bh_j (1 - \\bh_j) \\bx$\n",
    "\n",
    "Thus $\\nabla_{\\bv} \\mathcal{L}^{(n)} = \\mathbf{\\delta}^h \\bh (1 - \\bh) \\bx$\n",
    "\n",
    "$\\nabla_{\\ba_j} \\mathcal{L}^{(n)} = \\dfrac{\\partial \\mathcal{L}^{(n)}}{\\partial \\bh_j} \\dfrac{\\partial \\bh_j}{\\partial \\ba_j} = \\mathbf{\\delta}_j^h \\dfrac{\\partial \\bh_j}{\\partial \\ba_{j}}$\n",
    "\n",
    "Same as before, we use chain rule to compute $\\dfrac{\\partial \\bh_j}{\\partial \\ba_{j}} = \\dfrac{\\partial \\sigma(\\bv_j^T \\bx + \\ba_j)}{\\partial \\bv_j^T \\bx + \\ba_j} \\dfrac{\\partial \\bv_j^T \\bx + \\ba_j}{\\partial \\ba_j} = \\bh_j (1 - \\bh_j)$\n",
    "\n",
    "Thus $\\nabla_{\\ba} \\mathcal{L}^{(n)} = \\mathbf{\\delta}^h \\bh (1 - \\bh)$"
   ]
  },
  {
   "cell_type": "markdown",
   "metadata": {},
   "source": [
    "## 2.2 MAP optimization (10 points)\n",
    "\n",
    "You derived equations for finding the _maximum likelihood_ solution of the parameters. Explain, in a few sentences, how you could extend this approach so that it optimizes towards a _maximum a posteriori_ (MAP) solution of the parameters, with a Gaussian prior on the parameters. \n",
    "\n",
    "##### Answer: "
   ]
  },
  {
   "cell_type": "markdown",
   "metadata": {},
   "source": [
    "Taking into account a Gaussian prior distribution on the parameters, the posterior distribution becomes proportional to the likelihood function times the prior, i.e. $P(\\bw | \\bx, \\bt) = P(\\bt | \\bx, \\bw) P(\\bw)$. The error function is obtained by applying the negative log to $P(\\bw | \\bx, \\bt)$, where it can be observed that optimizing towards a $\\textit{maximum a posteriori}$ solution is equivalent to adding a Ridge regularization term to the original error function."
   ]
  },
  {
   "cell_type": "markdown",
   "metadata": {},
   "source": [
    "## 2.3. Implement and train a MLP (15 points)\n",
    "\n",
    "Implement a MLP model with a single hidden layer, and code to train the model."
   ]
  },
  {
   "cell_type": "code",
   "execution_count": 4,
   "metadata": {
    "collapsed": false
   },
   "outputs": [],
   "source": [
    "def sigmoid_vec(x):\n",
    "    return 1.0 / (1.0 + np.exp(-x))\n",
    "\n",
    "def mlp_gradient(x, t, V, a, W, b):\n",
    "    # Compute hidden units\n",
    "    h = np.asarray(sigmoid_vec(np.dot(V.T, x) + a))\n",
    "\n",
    "    # Compute log q\n",
    "    log_q = np.dot(W.T, h) + b\n",
    "    \n",
    "    # Compute log Z with the log-sum-exp trick\n",
    "    a_max = np.max(log_q)\n",
    "    log_Z = a_max + np.log(sum(exp(log_q - a_max)))\n",
    "    log_p = log_q - log_Z  \n",
    "\n",
    "    # Compute derivatives:\n",
    "    dq = -1 * np.exp(log_p)\n",
    "    dq[t] = 1 - np.exp(log_p[t])\n",
    "    dh = np.dot(dq, W.T)\n",
    "    dW = np.outer(h, dq) \n",
    "    db = dq\n",
    "    dV = np.outer(x, dh * h * (1.0 - h)) \n",
    "    da = dh * h * (1 - h)\n",
    "    \n",
    "    return dV, da, dW, db\n",
    "\n",
    "def mlp_sgd_iter(x, t, V, a, W, b):\n",
    "    # Randomize the order of the data points\n",
    "    indices = np.random.permutation(x.shape[0])\n",
    "    \n",
    "    # Initialize the learning rate \n",
    "    eta = 1e-1\n",
    "    \n",
    "    # Perform an iteration of SGD\n",
    "    for i in indices:\n",
    "        dV, da, dW, db = mlp_gradient(x[i,:], t[i], V, a, W, b)\n",
    "        W = W +eta* dW\n",
    "        b = b +eta* db\n",
    "        V = V +eta* dV\n",
    "        a = a +eta* da\n",
    "\n",
    "    return V, a, W, b\n",
    "\n",
    "#weight initialization \n",
    "def init_weights(shape):\n",
    "    \"\"\"\n",
    "    Bounds source: http://deeplearning.net/tutorial/mlp.html    \n",
    "    \"\"\"    \n",
    "    bound = 4.*np.sqrt(6./(np.sum(shape)))\n",
    "    return np.random.uniform(low=-bound, high=bound, size=shape)\n",
    "\n",
    "\n",
    "def train_mlp(x, t, num_iter, num_units):\n",
    "    \"\"\"Trains the V, a, W, b parameters of an MLP model\"\"\"\n",
    "\n",
    "    # The model parameters to be trained\n",
    "    # Weights are initialized \n",
    "    \n",
    "    V = init_weights((num_pixels, num_units))\n",
    "    \n",
    "    a = np.zeros(num_units)\n",
    "    W = init_weights((num_units, num_digits))\n",
    "    b = np.zeros(num_digits)\n",
    "\n",
    "    # Train the model and report the error rate after each epoch\n",
    "    for i in range(0, num_iter):\n",
    "        V, a, W, b = mlp_sgd_iter(x, t, V, a, W, b)\n",
    "        print \"Trained iteration \"+str(i)\n",
    "        compute_errorrate(x,V,a,W,b)\n",
    "\n",
    "def compute_errorrate(x, V, a, W, b):\n",
    "    # Compute the number of wrongly predicted images in the test set\n",
    "    wrong = 0\n",
    "    for i,x in enumerate(x_test):\n",
    "        pred = predict(x, V, a, W, b)\n",
    "        pred_class = np.where(pred == np.max(pred))[0]\n",
    "        if (pred_class != t_test[i]):\n",
    "            wrong += 1\n",
    "    percentage = 1.0*wrong/t_test.shape[0]*100.0\n",
    "    print \"Number of wrongly predicted images: %s out of %s = %s%%\"%(wrong, t_test.shape[0], percentage)\n",
    "\n",
    "def predict(x, V, a, W, b):\n",
    "    # Predict a class for a sample\n",
    "    h = np.asarray(sigmoid_vec(np.dot(V.T, x) + a))\n",
    "    return np.dot(W.T, h) + b\n",
    "\n"
   ]
  },
  {
   "cell_type": "markdown",
   "metadata": {},
   "source": [
    "### 2.3.1. Less than 250 misclassifications on the test set (10 bonus points)\n",
    "\n",
    "You receive an additional 10 bonus points if you manage to train a model with very high accuracy: at most 2.5% misclasified digits on the test set. Note that the test set contains 10000 digits, so you model should misclassify at most 250 digits. This should be achievable with a MLP model with one hidden layer. See results of various models at : `http://yann.lecun.com/exdb/mnist/index.html`. To reach such a low accuracy, you probably need to have a very high $L$ (many hidden units), probably $L > 200$, and apply a strong Gaussian prior on the weights. In this case you are allowed to use the validation set for training.\n",
    "You are allowed to add additional layers, and use convolutional networks, although that is probably not required to reach 2.5% misclassifications."
   ]
  },
  {
   "cell_type": "code",
   "execution_count": 5,
   "metadata": {
    "collapsed": false,
    "scrolled": false
   },
   "outputs": [
    {
     "name": "stdout",
     "output_type": "stream",
     "text": [
      "Trained iteration 0\n",
      "Number of wrongly predicted images: 352 out of 10000 = 3.52%\n",
      "Trained iteration 1\n",
      "Number of wrongly predicted images: 284 out of 10000 = 2.84%\n",
      "Trained iteration 2\n",
      "Number of wrongly predicted images: 267 out of 10000 = 2.67%\n",
      "Trained iteration 3\n",
      "Number of wrongly predicted images: 227 out of 10000 = 2.27%\n",
      "Trained iteration 4\n",
      "Number of wrongly predicted images: 195 out of 10000 = 1.95%\n",
      "Trained iteration 5\n",
      "Number of wrongly predicted images: 237 out of 10000 = 2.37%\n",
      "Trained iteration 6\n",
      "Number of wrongly predicted images: 185 out of 10000 = 1.85%\n",
      "Trained iteration 7\n",
      "Number of wrongly predicted images: 172 out of 10000 = 1.72%\n"
     ]
    }
   ],
   "source": [
    "x_concat = np.concatenate((x_train, x_valid))\n",
    "t_concat = np.concatenate((t_train, t_valid))\n",
    "train_mlp(x_concat, t_concat, 8,300)"
   ]
  }
 ],
 "metadata": {
  "anaconda-cloud": {},
  "celltoolbar": "Raw Cell Format",
  "kernelspec": {
   "display_name": "Python 2",
   "language": "python",
   "name": "python2"
  },
  "language_info": {
   "codemirror_mode": {
    "name": "ipython",
    "version": 2
   },
   "file_extension": ".py",
   "mimetype": "text/x-python",
   "name": "python",
   "nbconvert_exporter": "python",
   "pygments_lexer": "ipython2",
   "version": "2.7.12"
  }
 },
 "nbformat": 4,
 "nbformat_minor": 0
}
